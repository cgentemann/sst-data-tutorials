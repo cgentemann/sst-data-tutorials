{
 "cells": [
  {
   "cell_type": "markdown",
   "id": "718e9f1a",
   "metadata": {},
   "source": [
    "# Working with surftemp-sst data\n",
    "\n",
    "\n",
    "## Tutorial 1 - Getting Started\n",
    "\n",
    "This tutorial helps you get started with the Sea Surface Temperature Daily Analysis dataset: European Space Agency Climate Change Initiative product version 2.1, hosted by AWS opendata.\n",
    "\n",
    "A brief summary of this dataset is:\n",
    "\n",
    "> Global daily-mean sea surface temperatures, presented on a 0.05° latitude-longitude grid, with gaps between available daily observations filled by statistical means, spanning late 1981 to recent time.\n",
    ">\n",
    "> Synthesised from multiple Earth orbiting satellites carrying infrared imagers from thousands of billions of individual measurements. Underlying observation resolution ranges from 1 to 20 km, and after gap filling the typical feature resolution is ~20 km. Suitable for large-scale oceanographic meteorological and climatological applications, such as evaluating or constraining environmental models or case-studies of marine heat wave events.\n",
    ">\n",
    "> Adhering to community data standards and names. Includes temperature uncertainty information and auxiliary information about land-sea fraction and sea-ice coverage. To understand the data for your application, read the paper [1] using <a href=\"www.nature.com/articles/s41597-019-0236-x\">www.nature.com/articles/s41597-019-0236-x</a> to cite in any published usage.\n",
    ">\n",
    "> The v2.1 record is known to have biases associated with desert dust aerosol and erratic calibration of early-record sensors [1]. Adjustments to reduce these biases and include additional uncertainty in these effects have been developed, as described in [2] and are applied to this data. These adjustments operate on monthly and >5 degree time-space scales.\n",
    "> \n",
    "> [1] Merchant, C.J., Embury, O., Bulgin, C.E., Block, T., Corlett, G.K., Fiedler, E., Good, S.A., Mittaz, J., Rayner, N.A., Berry, D., Eastwood, S., Taylor, M., Tsushima, Y., Waterfall, A., Wilson, R. and Donlon, C. (2019), Satellite-based time-series of sea-surface temperature since 1981 for climate applications. Scientific Data 6, 223, doi:10.1038/s41597-019-0236-x\n",
    ">\n",
    "> [2] Merchant, C.J. and Embury, O. (2020) Adjusting for desert-dust-related biases in a climate data record of sea surface temperature. Remote Sensing, 12 (16). 2554. ISSN 2072-4292 doi:10.3390/rs12162554\n",
    "\n",
    "Although the entire datset is over 300Gb in size, a subset of the data can be downloaded selectively to inspect particular areas, locations or time periods.  This tutorial will provide some basic examples of how to do this using the [xarray library]( http://xarray.pydata.org/en/stable/)"
   ]
  },
  {
   "cell_type": "markdown",
   "id": "c77f1fde",
   "metadata": {},
   "source": [
    "### 1.0 Installing dependencies\n",
    "\n",
    "If you don't already have an environment created, you can create one that will run this notebook. From your Anaconda Prompt (windows) or bash (mac), change to the directory you have cloned the repository to and type: `conda env create -f environment.yml` then activate the env `conda activate sstenv`.\n"
   ]
  },
  {
   "cell_type": "code",
   "execution_count": null,
   "id": "0e0bad14",
   "metadata": {},
   "outputs": [],
   "source": [
    "import fsspec\n",
    "import matplotlib\n",
    "import s3fs\n",
    "import xarray as xr"
   ]
  },
  {
   "cell_type": "markdown",
   "id": "0b67708e",
   "metadata": {},
   "source": [
    "### 1.1 Opening the dataset\n",
    "\n",
    "The following code will load the metadata for the dataset and display the dataset information. It is really fast because it uses 'lazy loading'. Data is only loaded when it is needed, and only the chunks that are needed are accessed."
   ]
  },
  {
   "cell_type": "code",
   "execution_count": null,
   "id": "4008fa95",
   "metadata": {},
   "outputs": [],
   "source": [
    "%%time\n",
    "file_location = \"s3://surftemp-sst/data/sst.zarr\"\n",
    "\n",
    "ikey = fsspec.get_mapper(file_location, anon=True)\n",
    "\n",
    "ds = xr.open_zarr(ikey)"
   ]
  },
  {
   "cell_type": "markdown",
   "id": "a056fd34",
   "metadata": {},
   "source": [
    "### 1.2 Inspecting the dataset\n",
    "\n",
    "Xarray will print out all the variables in the dataset so you can explore them. Click on the icons to the right of the data to examine the data variable attributes and see some values for the data variable. At the bottom you can explore the global attributes for the dataset. This dataset contains:\n",
    "\n",
    "| Variable name         | Description                                              | Units   |\n",
    "| --------------------- | -------------------------------------------------------- | ------- |\n",
    "| analysed_sst          | Analysed sea surface temperature (Kelvin)                | kelvin  |\n",
    "| analysis_uncertainty  | Estimated error standard deviation of analysed_sst       | kelvin  |\n",
    "| sea_ice_fraction      | The estimated fraction of the area covered by sea ice    | -       |\n",
    "| mask                  | Bit mask (bit0:sea,bit1:land:bit2:lake,bit3:ice)         | -       |\n"
   ]
  },
  {
   "cell_type": "code",
   "execution_count": null,
   "id": "ff5e2a2c",
   "metadata": {},
   "outputs": [],
   "source": [
    "ds"
   ]
  },
  {
   "cell_type": "markdown",
   "id": "9b520a6f",
   "metadata": {},
   "source": [
    "### 1.3 Plot a timeseries of the `analyzed_sst` over a specific time range\n",
    "\n",
    "The data covers the earth's surface at a resolution of 0.05 degrees.  If you are interested in temperatures at a single location, extract a timeseries at a specific location. This is easiest to do with two .sel calls. First we select our time range. Next we select the latitude and longitude specifing `method=\"nearest\"` to find the nearest point."
   ]
  },
  {
   "cell_type": "code",
   "execution_count": null,
   "id": "71a7995b",
   "metadata": {},
   "outputs": [],
   "source": [
    "%%time\n",
    "(\n",
    "    ds[\"analysed_sst\"]\n",
    "    .sel(time=slice(\"1982-01-01\", \"1985-12-31\"))\n",
    "    .sel(lat=51, lon=-38, method=\"nearest\")\n",
    ").plot(figsize=(10, 5))"
   ]
  },
  {
   "cell_type": "markdown",
   "id": "09a70b9f",
   "metadata": {},
   "source": [
    "### 1.4 Plot data for a specific region\n",
    "\n",
    "it is easy to select a subset of the data for  given range of latitudes and longitudes.  For example, to see the data for a region (the gulf of guinea) at a single point in time:"
   ]
  },
  {
   "cell_type": "code",
   "execution_count": null,
   "id": "856c0b03",
   "metadata": {},
   "outputs": [
    {
     "ename": "NameError",
     "evalue": "name 'ds' is not defined",
     "output_type": "error",
     "traceback": [
      "\u001b[1;31m---------------------------------------------------------------------------\u001b[0m",
      "\u001b[1;31mNameError\u001b[0m                                 Traceback (most recent call last)",
      "\u001b[1;32m<timed eval>\u001b[0m in \u001b[0;36m<module>\u001b[1;34m\u001b[0m\n",
      "\u001b[1;31mNameError\u001b[0m: name 'ds' is not defined"
     ]
    }
   ],
   "source": [
    "%%time\n",
    "(\n",
    "    ds[\"analysed_sst\"]\n",
    "    .sel(time=\"2006-02-23\")\n",
    "    .sel(lat=slice(-5, 10), lon=slice(-5,10))\n",
    ").plot(cmap=\"coolwarm\", figsize=(5, 5))\n"
   ]
  },
  {
   "cell_type": "code",
   "execution_count": null,
   "id": "5f0240dd",
   "metadata": {},
   "outputs": [],
   "source": [
    "ssts_ts.plot(cmap=\"coolwarm\", figsize=(10, 10))"
   ]
  },
  {
   "cell_type": "code",
   "execution_count": null,
   "id": "e90de6f7",
   "metadata": {},
   "outputs": [],
   "source": [
    "### 1.5 Plotting global sea surface temperatures at a point in time"
   ]
  },
  {
   "cell_type": "code",
   "execution_count": null,
   "id": "d8eaf857",
   "metadata": {},
   "outputs": [],
   "source": [
    "global_ssts = sst_ds[\"analysed_sst\"].sel(time=\"1983-01-01\").load()\n",
    "global_ssts.plot(cmap=\"coolwarm\", figsize=(10, 5))"
   ]
  },
  {
   "cell_type": "markdown",
   "id": "8e6e9fac",
   "metadata": {},
   "source": [
    "### 1.6 Inspecting other variables in the dataset"
   ]
  },
  {
   "cell_type": "markdown",
   "id": "8c5317d1",
   "metadata": {},
   "source": [
    "fetch the SST uncertainty data for a region (the gulf of guinea) at a single point in time:"
   ]
  },
  {
   "cell_type": "code",
   "execution_count": null,
   "id": "c1fa4c28",
   "metadata": {},
   "outputs": [],
   "source": [
    "sst_ds[\"analysed_sst_uncertainty\"].sel(time=\"2006-02-23\").sel(\n",
    "    lat=slice(-5, 10), lon=slice(-5, 10)\n",
    ").plot()"
   ]
  },
  {
   "cell_type": "markdown",
   "id": "ea9c1f5a",
   "metadata": {},
   "source": [
    "plot global sea ice fraction on the first day in 1983"
   ]
  },
  {
   "cell_type": "code",
   "execution_count": null,
   "id": "41814061",
   "metadata": {},
   "outputs": [],
   "source": [
    "global_sea_ice_fraction = sst_ds[\"sea_ice_fraction\"].sel(time=\"1983-01-01\")\n",
    "global_sea_ice_fraction.plot(figsize=(10, 5))"
   ]
  },
  {
   "cell_type": "markdown",
   "id": "57c69bbe",
   "metadata": {},
   "source": [
    "Plot the mask over Scandanavia"
   ]
  },
  {
   "cell_type": "code",
   "execution_count": null,
   "id": "a041c8d5",
   "metadata": {},
   "outputs": [],
   "source": [
    "sst_ds[\"mask\"].sel(time=\"2006-01-18\").sel(lon=slice(2, 42), lat=slice(53, 72)).plot()"
   ]
  },
  {
   "cell_type": "code",
   "execution_count": null,
   "id": "fdaff17e",
   "metadata": {},
   "outputs": [],
   "source": []
  }
 ],
 "metadata": {
  "kernelspec": {
   "display_name": "Python 3 (ipykernel)",
   "language": "python",
   "name": "python3"
  },
  "language_info": {
   "codemirror_mode": {
    "name": "ipython",
    "version": 3
   },
   "file_extension": ".py",
   "mimetype": "text/x-python",
   "name": "python",
   "nbconvert_exporter": "python",
   "pygments_lexer": "ipython3",
   "version": "3.7.12"
  }
 },
 "nbformat": 4,
 "nbformat_minor": 5
}
