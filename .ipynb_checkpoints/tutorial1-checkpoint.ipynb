{
 "cells": [
  {
   "cell_type": "markdown",
   "id": "718e9f1a",
   "metadata": {},
   "source": [
    "# Working with surftemp-sst data\n",
    "\n",
    "\n",
    "## Tutorial 1 - Getting Started\n",
    "\n",
    "This tutorial helps you get started with the Sea Surface Temperature Daily Analysis dataset: European Space Agency Climate Change Initiative product version 2.1, hosted by AWS opendata."
   ]
  },
  {
   "cell_type": "markdown",
   "id": "c77f1fde",
   "metadata": {},
   "source": [
    "### 1.0 Installing dependencies\n",
    "\n",
    "If you don't already have an environment created, you can create one that will run this notebook. From your Anaconda Prompt (windows) or bash (mac), change to the directory you have cloned the repository to and type: `conda env create -f environment.yml` then activate the env `conda activate sstenv`.\n"
   ]
  },
  {
   "cell_type": "code",
   "execution_count": null,
   "id": "0e0bad14",
   "metadata": {},
   "outputs": [],
   "source": [
    "import fsspec\n",
    "import matplotlib.pyplot as plt\n",
    "import s3fs\n",
    "import xarray as xr\n",
    "import numpy as np"
   ]
  },
  {
   "cell_type": "markdown",
   "id": "0b67708e",
   "metadata": {},
   "source": [
    "### 1.1 Opening the dataset\n",
    "\n",
    "The following code will load the metadata for the dataset and display the dataset information. It is really fast because it uses 'lazy loading'. Data is only loaded when it is needed, and only the chunks that are needed are accessed."
   ]
  },
  {
   "cell_type": "code",
   "execution_count": null,
   "id": "54671732-b1b5-4e2f-b25e-acfb8a947134",
   "metadata": {},
   "outputs": [],
   "source": [
    "# if you are running on AWS cloud you can use the line below and it will be faster to read and access the data\n",
    "#ds = xr.open_zarr(fsspec.get_mapper(\"s3://surftemp-sst/data/sst.zarr\"),consolidated=True)\n",
    "\n",
    "# if you are running anywhere other than AWS cloud (eg. your local computer or mybinder.org) this is the line that will work\n",
    "ds = xr.open_zarr('https://surftemp-sst.s3.us-west-2.amazonaws.com/data/sst.zarr')\n",
    "\n",
    "ds"
   ]
  },
  {
   "cell_type": "markdown",
   "id": "a056fd34",
   "metadata": {},
   "source": [
    "### 1.2 Inspecting the dataset\n",
    "\n",
    "Xarray will print out all the variables in the dataset so you can explore them. Click on the icons to the right of the data to examine the data variable attributes and see some values for the data variable. At the bottom you can explore the global attributes for the dataset. This dataset contains:\n",
    "\n",
    "| Variable name         | Description                                              | Units   |\n",
    "| --------------------- | -------------------------------------------------------- | ------- |\n",
    "| analysed_sst          | Analysed sea surface temperature (Kelvin)                | kelvin  |\n",
    "| analysis_uncertainty  | Estimated error standard deviation of analysed_sst       | kelvin  |\n",
    "| sea_ice_fraction      | The estimated fraction of the area covered by sea ice    | -       |\n",
    "| mask                  | Bit mask (bit0:sea,bit1:land:bit2:lake,bit3:ice)         | -       |\n"
   ]
  },
  {
   "cell_type": "code",
   "execution_count": null,
   "id": "ff5e2a2c",
   "metadata": {},
   "outputs": [],
   "source": [
    "ds"
   ]
  },
  {
   "cell_type": "markdown",
   "id": "9b520a6f",
   "metadata": {},
   "source": [
    "### 1.3 Plot a timeseries of the `analyzed_sst` over a specific time range\n",
    "\n",
    "The data covers the earth's surface at a resolution of 0.05 degrees.  If you are interested in temperatures at a single location, extract a timeseries at a specific location. This is easiest to do with two .sel calls. First we select our time range. Next we select the latitude and longitude specifing `method=\"nearest\"` to find the nearest point."
   ]
  },
  {
   "cell_type": "code",
   "execution_count": null,
   "id": "71a7995b",
   "metadata": {},
   "outputs": [],
   "source": [
    "%%time\n",
    "(\n",
    "    ds[\"analysed_sst\"]\n",
    "    .sel(time=slice(\"1982-01-01\", \"1985-12-31\"))\n",
    "    .sel(lat=51, lon=-38, method=\"nearest\")\n",
    ").plot(figsize=(10, 5))"
   ]
  },
  {
   "cell_type": "markdown",
   "id": "09a70b9f",
   "metadata": {},
   "source": [
    "### 1.4 Plot data for a specific region\n",
    "\n",
    "it is easy to select a subset of the data for  given range of latitudes and longitudes.  For example, to see the data for a region (the gulf of guinea) at a single point in time:"
   ]
  },
  {
   "cell_type": "code",
   "execution_count": null,
   "id": "856c0b03",
   "metadata": {},
   "outputs": [],
   "source": [
    "%%time\n",
    "(\n",
    "    ds[\"analysed_sst\"]\n",
    "    .sel(time=\"2006-02-23\")\n",
    "    .sel(lat=slice(30, 45), lon=slice(115, 140))\n",
    ").plot(cmap=\"coolwarm\", figsize=(5, 5))"
   ]
  },
  {
   "cell_type": "markdown",
   "id": "df5368df-14d5-475a-9a92-af5de0f6da7a",
   "metadata": {},
   "source": [
    "### 1.5 Plotting global sea surface temperatures at a point in time"
   ]
  },
  {
   "cell_type": "code",
   "execution_count": null,
   "id": "d8eaf857",
   "metadata": {},
   "outputs": [],
   "source": [
    "%%time\n",
    "(ds[\"analysed_sst\"].sel(time=\"1983-01-01\").plot(cmap=\"coolwarm\", figsize=(10, 5)))"
   ]
  },
  {
   "cell_type": "markdown",
   "id": "8e6e9fac",
   "metadata": {},
   "source": [
    "### 1.6 Inspecting other variables in the dataset"
   ]
  },
  {
   "cell_type": "markdown",
   "id": "8c5317d1",
   "metadata": {},
   "source": [
    "In this dataset, the uncertainty is calculated for each pixel and included as another data variable. This can be useful when you are trying to understand how accurate the data is or how to blend it with other data or inject into a model. Here we plot the SST uncertainty data for a region (the gulf of guinea) at a single point in time:"
   ]
  },
  {
   "cell_type": "code",
   "execution_count": null,
   "id": "c1fa4c28",
   "metadata": {},
   "outputs": [],
   "source": [
    "%%time\n",
    "(\n",
    "    ds[\"analysed_sst_uncertainty\"]\n",
    "    .sel(time=\"2006-02-23\")\n",
    "    .sel(lat=slice(30, 45), lon=slice(115, 140))\n",
    "    .plot(vmin=0, vmax=1)\n",
    ")"
   ]
  },
  {
   "cell_type": "markdown",
   "id": "ea9c1f5a",
   "metadata": {},
   "source": [
    "This dataset calculates SST for all ocean pixels, including areas covered by sea ice. In those regions the SST relaxes back to -2 C (271.15 K). For some science applications, it is important to remove data covered by sea ice. This dataset has a variable for sea ice fraction that can be used to mask the data. Here we plot the sea ice fraction for 01 Jan 1983."
   ]
  },
  {
   "cell_type": "code",
   "execution_count": null,
   "id": "41814061",
   "metadata": {},
   "outputs": [],
   "source": [
    "%%time\n",
    "(\n",
    "    ds[\"sea_ice_fraction\"]\n",
    "    .sel(time=\"1983-01-01\")\n",
    "    .plot(vmin=0, vmax=1, figsize=(10, 5))\n",
    ")"
   ]
  },
  {
   "cell_type": "markdown",
   "id": "c7b49224-6879-44e4-a865-65a49d862a1a",
   "metadata": {},
   "source": [
    "There is also a `mask` in the data. To see what the different values of the mask means, you can print out the attributes."
   ]
  },
  {
   "cell_type": "code",
   "execution_count": null,
   "id": "c83b2f18-a408-4520-90bd-dfcf4abd70ae",
   "metadata": {},
   "outputs": [],
   "source": [
    "ds[\"mask\"].attrs"
   ]
  },
  {
   "cell_type": "markdown",
   "id": "57c69bbe",
   "metadata": {},
   "source": [
    "Note in the attributes that this is a bit mask flag. The bits are given in the comments. Below we set up the bit flags and then plot each bit to show the different masks individually over Scandanavia"
   ]
  },
  {
   "cell_type": "code",
   "execution_count": null,
   "id": "a041c8d5",
   "metadata": {},
   "outputs": [],
   "source": [
    "%%time\n",
    "\n",
    "sea_bit,land_bit,lake_bit,seaice_bit = 0,1,2,3\n",
    "bits = [sea_bit,land_bit,lake_bit,seaice_bit]\n",
    "bitstr = ['Sea','Land','Lake','Sea Ice']\n",
    "\n",
    "fig, axes = plt.subplots(ncols=4, figsize=(15, 5))\n",
    "\n",
    "subset = (\n",
    "    ds[\"mask\"]\n",
    "    .sel(time=\"2006-01-18\")\n",
    "    .sel(lon=slice(2, 42), lat=slice(53, 72))\n",
    ")\n",
    "\n",
    "for ib,bit in enumerate(bits):\n",
    "    print(bitstr[bit])\n",
    "    subset_mask = np.bitwise_and(subset.astype('uint8'), int(2**bit)) > 0\n",
    "    subset_mask.plot(ax=axes[bit],add_colorbar=False)\n",
    "    axes[bit].set_title(bitstr[bit])"
   ]
  },
  {
   "cell_type": "code",
   "execution_count": null,
   "id": "fdaff17e",
   "metadata": {},
   "outputs": [],
   "source": []
  }
 ],
 "metadata": {
  "kernelspec": {
   "display_name": "Python 3 (ipykernel)",
   "language": "python",
   "name": "python3"
  },
  "language_info": {
   "codemirror_mode": {
    "name": "ipython",
    "version": 3
   },
   "file_extension": ".py",
   "mimetype": "text/x-python",
   "name": "python",
   "nbconvert_exporter": "python",
   "pygments_lexer": "ipython3",
   "version": "3.7.12"
  }
 },
 "nbformat": 4,
 "nbformat_minor": 5
}
